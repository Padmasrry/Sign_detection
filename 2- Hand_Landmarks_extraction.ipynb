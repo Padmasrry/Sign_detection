{
 "cells": [
  {
   "cell_type": "markdown",
   "metadata": {},
   "source": [
    "# Hand Landmarks\n",
    "![Hand Land Marks](https://mediapipe.dev/images/mobile/hand_landmarks.png)"
   ]
  },
  {
   "cell_type": "code",
   "execution_count": null,
   "metadata": {},
   "outputs": [
    {
     "name": "stderr",
     "output_type": "stream",
     "text": [
      "c:\\Users\\Mohamed Bayomey\\AppData\\Local\\Programs\\Python\\Python311\\Lib\\site-packages\\google\\protobuf\\symbol_database.py:55: UserWarning: SymbolDatabase.GetPrototype() is deprecated. Please use message_factory.GetMessageClass() instead. SymbolDatabase.GetPrototype() will be removed soon.\n",
      "  warnings.warn('SymbolDatabase.GetPrototype() is deprecated. Please '\n"
     ]
    }
   ],
   "source": [
    "import cv2\n",
    "import numpy as np\n",
    "import os\n",
    "import pickle\n",
    "\n",
    "# Define paths\n",
    "DATA_DIR = 'data'  # Adjust if your data folder has a different name\n",
    "output_file = '5- Hand_landmarks_Data.pickle'\n",
    "\n",
    "# Initialize lists to store data\n",
    "data = []\n",
    "labels = []\n",
    "\n",
    "# Define a function to detect hands using skin color and contours\n",
    "def detect_hand(image):\n",
    "    # Convert to HSV color space for skin detection\n",
    "    hsv = cv2.cvtColor(image, cv2.COLOR_BGR2HSV)\n",
    "    # Define skin color range in HSV\n",
    "    lower_skin = np.array([0, 20, 70], dtype=np.uint8)\n",
    "    upper_skin = np.array([20, 255, 255], dtype=np.uint8)\n",
    "    mask = cv2.inRange(hsv, lower_skin, upper_skin)\n",
    "\n",
    "    # Apply morphological operations to reduce noise\n",
    "    kernel = np.ones((5, 5), np.uint8)\n",
    "    mask = cv2.dilate(mask, kernel, iterations=2)\n",
    "    mask = cv2.erode(mask, kernel, iterations=2)\n",
    "\n",
    "    # Find contours\n",
    "    contours, _ = cv2.findContours(mask, cv2.RETR_EXTERNAL, cv2.CHAIN_APPROX_SIMPLE)\n",
    "    if not contours:\n",
    "        return None\n",
    "\n",
    "    # Get the largest contour (assumed to be the hand)\n",
    "    max_contour = max(contours, key=cv2.contourArea)\n",
    "    if cv2.contourArea(max_contour) < 500:  # Ignore small contours\n",
    "        return None\n",
    "\n",
    "    # Get bounding box of the hand\n",
    "    x, y, w, h = cv2.boundingRect(max_contour)\n",
    "    # Normalize coordinates (relative to image size)\n",
    "    img_height, img_width = image.shape[:2]\n",
    "    normalized_features = [x/img_width, y/img_height, (x+w)/img_width, (y+h)/img_height]\n",
    "    return normalized_features\n",
    "\n",
    "# Loop through each class folder in the data directory\n",
    "for label in os.listdir(DATA_DIR):\n",
    "    label_dir = os.path.join(DATA_DIR, label)\n",
    "    if not os.path.isdir(label_dir):\n",
    "        continue\n",
    "\n",
    "    print(f'Processing label: {label}')\n",
    "    for img_name in os.listdir(label_dir):\n",
    "        img_path = os.path.join(label_dir, img_name)\n",
    "        img = cv2.imread(img_path)\n",
    "        if img is None:\n",
    "            continue\n",
    "\n",
    "        # Detect hand and extract features\n",
    "        features = detect_hand(img)\n",
    "        if features is None:\n",
    "            continue\n",
    "\n",
    "        # Append features and label to lists\n",
    "        data.append(features)\n",
    "        labels.append(label)\n",
    "\n",
    "# Save the data to a pickle file\n",
    "data_dict = {'data': data, 'labels': labels}\n",
    "with open(output_file, 'wb') as f:\n",
    "    pickle.dump(data_dict, f)\n",
    "\n",
    "print(f'Saved {len(data)} samples to {output_file}')"
   ]
  }
 ],
 "metadata": {
  "kernelspec": {
   "display_name": "Python 3",
   "language": "python",
   "name": "python3"
  },
  "language_info": {
   "codemirror_mode": {
    "name": "ipython",
    "version": 3
   },
   "file_extension": ".py",
   "mimetype": "text/x-python",
   "name": "python",
   "nbconvert_exporter": "python",
   "pygments_lexer": "ipython3",
   "version": "3.11.8"
  }
 },
 "nbformat": 4,
 "nbformat_minor": 2
}
